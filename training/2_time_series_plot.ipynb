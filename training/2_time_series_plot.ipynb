{
 "cells": [
  {
   "cell_type": "code",
   "execution_count": 1,
   "metadata": {},
   "outputs": [],
   "source": [
    "import pandas as pd\n",
    "import matplotlib.pyplot as plt\n",
    "import os"
   ]
  },
  {
   "cell_type": "code",
   "execution_count": 2,
   "metadata": {},
   "outputs": [],
   "source": [
    "# Reload the dataset\n",
    "file_path = '/root/juno/lateralraise_coords_personid_filtered.csv'\n",
    "data = pd.read_csv(file_path)"
   ]
  },
  {
   "cell_type": "code",
   "execution_count": 3,
   "metadata": {},
   "outputs": [],
   "source": [
    "# Extract unique keypoint combinations (class, posture_type, person_id)\n",
    "keypoint_combinations = data[['class', 'posture_type', 'person_id']].drop_duplicates()\n",
    "\n",
    "# Create output directory for saving images\n",
    "output_dir = '/root/juno/keypoint_time_series_plots'\n",
    "os.makedirs(output_dir, exist_ok=True)"
   ]
  },
  {
   "cell_type": "code",
   "execution_count": 4,
   "metadata": {},
   "outputs": [
    {
     "name": "stdout",
     "output_type": "stream",
     "text": [
      "Plots saved in directory: /root/juno/keypoint_time_series_plots\n"
     ]
    }
   ],
   "source": [
    "# Iterate through each keypoint combination\n",
    "for _, row in keypoint_combinations.iterrows():\n",
    "    class_label = row['class']\n",
    "    posture_type = row['posture_type']\n",
    "    person_id = row['person_id']\n",
    "    \n",
    "    # Filter data for the current keypoint combination\n",
    "    subset = data[(data['class'] == class_label) & \n",
    "                  (data['posture_type'] == posture_type) & \n",
    "                  (data['person_id'] == person_id)]\n",
    "    \n",
    "    # Prepare multivariate time series data for x, y, z coordinates\n",
    "    coordinates = ['x', 'y', 'z']\n",
    "    for coord in coordinates:\n",
    "        # Filter columns specific to the current coordinate (e.g., LEFT_SHOULDER_x)\n",
    "        coord_columns = [col for col in subset.columns if col.endswith(f'_{coord}')]\n",
    "        time_series_data = subset[coord_columns]\n",
    "        \n",
    "        # Plotting the time series\n",
    "        plt.figure(figsize=(10, 6))\n",
    "        for col in time_series_data.columns:\n",
    "            plt.plot(time_series_data[col], label=col.split('_')[0])  # 관절 이름만 표시\n",
    "        plt.title(f'{coord.upper()} Time Series for ({class_label}, {posture_type}, {person_id})')\n",
    "        plt.xlabel('Time (Index)')\n",
    "        plt.ylabel(f'{coord.upper()} Coordinate Values')\n",
    "        plt.legend(loc='best')\n",
    "        \n",
    "        # Save the plot to a file\n",
    "        output_file = os.path.join(\n",
    "            output_dir, f'{class_label}_{posture_type}_{person_id}_{coord}.png'\n",
    "        )\n",
    "        plt.savefig(output_file)\n",
    "        plt.close()\n",
    "\n",
    "print(f\"Plots saved in directory: {output_dir}\")"
   ]
  }
 ],
 "metadata": {
  "kernelspec": {
   "display_name": "condatest",
   "language": "python",
   "name": "python3"
  },
  "language_info": {
   "codemirror_mode": {
    "name": "ipython",
    "version": 3
   },
   "file_extension": ".py",
   "mimetype": "text/x-python",
   "name": "python",
   "nbconvert_exporter": "python",
   "pygments_lexer": "ipython3",
   "version": "3.9.21"
  }
 },
 "nbformat": 4,
 "nbformat_minor": 2
}
