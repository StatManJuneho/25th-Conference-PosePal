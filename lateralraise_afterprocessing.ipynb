{
 "cells": [
  {
   "cell_type": "code",
   "execution_count": 1,
   "metadata": {},
   "outputs": [],
   "source": [
    "import pandas as pd\n",
    "import numpy as np\n",
    "from sklearn.preprocessing import MinMaxScaler"
   ]
  },
  {
   "cell_type": "code",
   "execution_count": 2,
   "metadata": {},
   "outputs": [],
   "source": [
    "# 1. 데이터 불러오기\n",
    "lateralraise = pd.read_csv('./lateralraise_coords.csv')"
   ]
  },
  {
   "cell_type": "code",
   "execution_count": 3,
   "metadata": {},
   "outputs": [],
   "source": [
    "# 2. 각도 계산 함수\n",
    "def calculateAngle(a, b, c):\n",
    "    a = np.array(a)  # 첫 번째 지점\n",
    "    b = np.array(b)  # 중간 지점\n",
    "    c = np.array(c)  # 끝 지점\n",
    "\n",
    "    radians = np.arctan2(c[1] - b[1], c[0] - b[0]) - np.arctan2(\n",
    "        a[1] - b[1], a[0] - b[0]\n",
    "    )\n",
    "    angle = np.abs(radians * 180.0 / np.pi)\n",
    "\n",
    "    if angle > 180.0:\n",
    "        angle = 360 - angle\n",
    "\n",
    "    return angle"
   ]
  },
  {
   "cell_type": "code",
   "execution_count": 4,
   "metadata": {},
   "outputs": [],
   "source": [
    "# 3. 관절 각도를 계산하는 함수\n",
    "def calculate_joint_angles(row):\n",
    "    nose = [row['x1'], row['y1']]\n",
    "    left_shoulder = [row['x12'], row['y12']]\n",
    "    left_elbow = [row['x14'], row['y14']]\n",
    "    left_wrist = [row['x16'], row['y16']]\n",
    "    left_hip = [row['x26'], row['y26']]\n",
    "    left_knee = [row['x28'], row['y28']]\n",
    "    left_ankle = [row['x30'], row['y30']]\n",
    "    left_heel = [row['x32'], row['y32']]\n",
    "    right_shoulder = [row['x13'], row['y13']]\n",
    "    right_elbow = [row['x15'], row['y15']]\n",
    "    right_wrist = [row['x17'], row['y17']]\n",
    "    right_hip = [row['x27'], row['y27']]\n",
    "    right_knee = [row['x29'], row['y29']]\n",
    "    right_ankle = [row['x31'], row['y31']]\n",
    "    right_heel = [row['x33'], row['y33']]\n",
    "\n",
    "    neck_angle = (calculateAngle(left_shoulder, nose, left_hip) + calculateAngle(right_shoulder, nose, right_hip)) / 2\n",
    "    left_elbow_angle = calculateAngle(left_shoulder, left_elbow, left_wrist)\n",
    "    right_elbow_angle = calculateAngle(right_shoulder, right_elbow, right_wrist)\n",
    "    left_shoulder_angle = calculateAngle(left_elbow, left_shoulder, left_hip)\n",
    "    right_shoulder_angle = calculateAngle(right_elbow, right_shoulder, right_hip)\n",
    "    left_hip_angle = calculateAngle(left_shoulder, left_hip, left_knee)\n",
    "    right_hip_angle = calculateAngle(right_shoulder, right_hip, right_knee)\n",
    "    left_knee_angle = calculateAngle(left_hip, left_knee, left_ankle)\n",
    "    right_knee_angle = calculateAngle(right_hip, right_knee, right_ankle)\n",
    "    left_ankle_angle = calculateAngle(left_knee, left_ankle, left_heel)\n",
    "    right_ankle_angle = calculateAngle(right_knee, right_ankle, right_heel)\n",
    "\n",
    "    return pd.Series([neck_angle, left_elbow_angle, right_elbow_angle, left_shoulder_angle, right_shoulder_angle, left_hip_angle, right_hip_angle, left_knee_angle, right_knee_angle, left_ankle_angle, right_ankle_angle])"
   ]
  },
  {
   "cell_type": "code",
   "execution_count": 5,
   "metadata": {},
   "outputs": [],
   "source": [
    "# 4. 관절 각도 계산 및 데이터프레임에 추가\n",
    "angle_columns = ['neck_angle', 'left_elbow_angle', 'right_elbow_angle', 'left_shoulder_angle', 'right_shoulder_angle', 'left_hip_angle', 'right_hip_angle', 'left_knee_angle', 'right_knee_angle', 'left_ankle_angle', 'right_ankle_angle']\n",
    "lateralraise[angle_columns] = lateralraise.apply(calculate_joint_angles, axis=1)"
   ]
  },
  {
   "cell_type": "code",
   "execution_count": 6,
   "metadata": {},
   "outputs": [],
   "source": [
    "# 5. 각도 데이터를 정규화\n",
    "scaler = MinMaxScaler()\n",
    "scaled_angles = scaler.fit_transform(lateralraise[angle_columns])"
   ]
  },
  {
   "cell_type": "code",
   "execution_count": 7,
   "metadata": {},
   "outputs": [],
   "source": [
    "# 6. 정규화된 데이터를 데이터프레임에 추가\n",
    "scaled_angles_df = pd.DataFrame(scaled_angles, columns=[f\"scaled_{col}\" for col in angle_columns])\n",
    "lateralraise = pd.concat([lateralraise, scaled_angles_df], axis=1)"
   ]
  },
  {
   "cell_type": "code",
   "execution_count": 8,
   "metadata": {},
   "outputs": [],
   "source": [
    "# 7. 결과 저장\n",
    "lateralraise.to_csv(\"lateralraise_with_scaled_angles.csv\", index=False)"
   ]
  },
  {
   "cell_type": "code",
   "execution_count": 9,
   "metadata": {},
   "outputs": [
    {
     "name": "stdout",
     "output_type": "stream",
     "text": [
      "   class posture_type        x1        y1        z1        v1        x2  \\\n",
      "0    377      correct  0.514252  0.403630  0.093563  0.999134  0.512110   \n",
      "1    377      correct  0.514418  0.403220  0.088936  0.999077  0.512114   \n",
      "2    377      correct  0.514362  0.401675  0.089466  0.999065  0.511837   \n",
      "3    377      correct  0.515669  0.401734  0.089230  0.999135  0.513123   \n",
      "4    377      correct  0.518273  0.401750  0.082670  0.999220  0.515514   \n",
      "\n",
      "         y2        z2        v2  ...  scaled_left_elbow_angle  \\\n",
      "0  0.392551  0.090810  0.998721  ...                 0.966475   \n",
      "1  0.391994  0.086265  0.998671  ...                 0.979844   \n",
      "2  0.390314  0.086594  0.998679  ...                 0.989509   \n",
      "3  0.390372  0.086921  0.998782  ...                 0.981455   \n",
      "4  0.390416  0.075140  0.998902  ...                 0.365886   \n",
      "\n",
      "   scaled_right_elbow_angle  scaled_left_shoulder_angle  \\\n",
      "0                  0.981047                    0.004427   \n",
      "1                  0.978438                    0.003251   \n",
      "2                  0.976390                    0.003246   \n",
      "3                  0.926699                    0.045061   \n",
      "4                  0.747231                    0.283580   \n",
      "\n",
      "   scaled_right_shoulder_angle  scaled_left_hip_angle  scaled_right_hip_angle  \\\n",
      "0                     0.028232               0.981939                0.935411   \n",
      "1                     0.026687               0.984892                0.942960   \n",
      "2                     0.025746               0.984993                0.945113   \n",
      "3                     0.049860               0.981097                0.948021   \n",
      "4                     0.464178               0.997251                0.923282   \n",
      "\n",
      "   scaled_left_knee_angle  scaled_right_knee_angle  scaled_left_ankle_angle  \\\n",
      "0                0.917189                 0.923816                 0.243582   \n",
      "1                0.909612                 0.920360                 0.200033   \n",
      "2                0.909364                 0.917419                 0.177009   \n",
      "3                0.909451                 0.910052                 0.171531   \n",
      "4                0.907211                 0.899255                 0.155572   \n",
      "\n",
      "   scaled_right_ankle_angle  \n",
      "0                  0.408067  \n",
      "1                  0.367550  \n",
      "2                  0.352174  \n",
      "3                  0.344713  \n",
      "4                  0.340454  \n",
      "\n",
      "[5 rows x 156 columns]\n"
     ]
    }
   ],
   "source": [
    "# 8. 결과 출력\n",
    "print(lateralraise.head())"
   ]
  }
 ],
 "metadata": {
  "kernelspec": {
   "display_name": "condatest",
   "language": "python",
   "name": "condatest"
  },
  "language_info": {
   "codemirror_mode": {
    "name": "ipython",
    "version": 3
   },
   "file_extension": ".py",
   "mimetype": "text/x-python",
   "name": "python",
   "nbconvert_exporter": "python",
   "pygments_lexer": "ipython3",
   "version": "3.9.20"
  }
 },
 "nbformat": 4,
 "nbformat_minor": 2
}
