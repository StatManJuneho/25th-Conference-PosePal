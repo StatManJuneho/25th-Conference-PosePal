{
 "cells": [
  {
   "cell_type": "code",
   "execution_count": 1,
   "metadata": {},
   "outputs": [],
   "source": [
    "import pandas as pd\n",
    "import os"
   ]
  },
  {
   "cell_type": "code",
   "execution_count": 2,
   "metadata": {},
   "outputs": [],
   "source": [
    "# Load the dataset\n",
    "file_path = '/root/juno/lateralraise_coords_personid.csv'\n",
    "data = pd.read_csv(file_path)"
   ]
  },
  {
   "cell_type": "code",
   "execution_count": 3,
   "metadata": {},
   "outputs": [],
   "source": [
    "# Output directory for saved time-series files\n",
    "output_dir = '/root/juno/time_series_data'\n",
    "os.makedirs(output_dir, exist_ok=True)\n",
    "\n",
    "# Extract unique keypoint combinations\n",
    "keypoint_combinations = data[['class', 'posture_type', 'person_id']].drop_duplicates()\n",
    "\n",
    "# Initialize a list to hold processed data\n",
    "all_time_series_data = []"
   ]
  },
  {
   "cell_type": "code",
   "execution_count": 4,
   "metadata": {},
   "outputs": [],
   "source": [
    "# Iterate through each keypoint combination\n",
    "for _, row in keypoint_combinations.iterrows():\n",
    "    class_label = row['class']\n",
    "    posture_type = row['posture_type']\n",
    "    person_id = row['person_id']\n",
    "    \n",
    "    # Filter data for the current keypoint combination\n",
    "    subset = data[(data['class'] == class_label) & \n",
    "                  (data['posture_type'] == posture_type) & \n",
    "                  (data['person_id'] == person_id)]\n",
    "    \n",
    "    # Prepare time-series data\n",
    "    time_series_dict = {}\n",
    "    for coord in ['x', 'y', 'z']:\n",
    "        coord_columns = [col for col in subset.columns if col.startswith(coord)]\n",
    "        time_series_dict[coord] = subset[coord_columns].values.tolist()\n",
    "    \n",
    "    # Append label and time-series data\n",
    "    time_series_entry = {\n",
    "        'label': class_label,\n",
    "        'posture_type': posture_type,\n",
    "        'person_id': person_id,\n",
    "        'x_series': time_series_dict['x'],\n",
    "        'y_series': time_series_dict['y'],\n",
    "        'z_series': time_series_dict['z']\n",
    "    }\n",
    "    all_time_series_data.append(time_series_entry)\n",
    "\n",
    "    # Save each keypoint combination to an individual file (optional)\n",
    "    subset_file = os.path.join(output_dir, f'{class_label}_{posture_type}_{person_id}.csv')\n",
    "    subset.to_csv(subset_file, index=False)\n",
    "\n"
   ]
  },
  {
   "cell_type": "code",
   "execution_count": 5,
   "metadata": {},
   "outputs": [
    {
     "name": "stdout",
     "output_type": "stream",
     "text": [
      "Time-Series Data saved successfully.\n"
     ]
    }
   ],
   "source": [
    "# Save the entire dataset as a single file\n",
    "time_series_df = pd.DataFrame(all_time_series_data)\n",
    "time_series_df.to_csv(os.path.join(output_dir, 'multivariate_time_series.csv'), index=False)\n",
    "\n",
    "print(\"Time-Series Data saved successfully.\")"
   ]
  }
 ],
 "metadata": {
  "kernelspec": {
   "display_name": "condatest",
   "language": "python",
   "name": "python3"
  },
  "language_info": {
   "codemirror_mode": {
    "name": "ipython",
    "version": 3
   },
   "file_extension": ".py",
   "mimetype": "text/x-python",
   "name": "python",
   "nbconvert_exporter": "python",
   "pygments_lexer": "ipython3",
   "version": "3.9.20"
  }
 },
 "nbformat": 4,
 "nbformat_minor": 2
}
